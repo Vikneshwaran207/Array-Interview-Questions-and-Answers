{
  "nbformat": 4,
  "nbformat_minor": 0,
  "metadata": {
    "colab": {
      "name": "Array Problems and Solutions.ipynb",
      "provenance": [],
      "collapsed_sections": [
        "kHtQKjGcrntd",
        "VwJLpcICy7Wt",
        "cEFlz0X-jXwN",
        "vM6l0uU1fRDl",
        "p77GO7gktKar",
        "I1WZv29quTOO"
      ],
      "authorship_tag": "ABX9TyPYMW4goj5t+cXhRqrRyqvf",
      "include_colab_link": true
    },
    "kernelspec": {
      "name": "python3",
      "display_name": "Python 3"
    },
    "language_info": {
      "name": "python"
    }
  },
  "cells": [
    {
      "cell_type": "markdown",
      "metadata": {
        "id": "view-in-github",
        "colab_type": "text"
      },
      "source": [
        "<a href=\"https://colab.research.google.com/github/Vikneshwaran207/Array-Interview-Questions-and-Answers/blob/main/Array_Problems_and_Solutions.ipynb\" target=\"_parent\"><img src=\"https://colab.research.google.com/assets/colab-badge.svg\" alt=\"Open In Colab\"/></a>"
      ]
    },
    {
      "cell_type": "markdown",
      "source": [
        "# Reversing an array"
      ],
      "metadata": {
        "id": "kHtQKjGcrntd"
      }
    },
    {
      "cell_type": "code",
      "execution_count": null,
      "metadata": {
        "id": "JVCO0f6Po3fr",
        "colab": {
          "base_uri": "https://localhost:8080/"
        },
        "outputId": "c4d70599-1b70-4ad6-9460-cf3ea3b6a678"
      },
      "outputs": [
        {
          "output_type": "execute_result",
          "data": {
            "text/plain": [
              "[5, 4, 3, 2, 1]"
            ]
          },
          "metadata": {},
          "execution_count": 4
        }
      ],
      "source": [
        "# Using basic for loop\n",
        "a = [1,2,3,4,5]\n",
        "def reversearray(a):\n",
        "  rev=[]\n",
        "  for i in range(len(a)-1,-1,-1):\n",
        "    rev.append(a[i])\n",
        "  return rev \n",
        "reversearray(a)\n"
      ]
    },
    {
      "cell_type": "code",
      "source": [
        "# Using slicing[] function\n",
        "a = [1,2,3,4,5]\n",
        "def reversearray(a):\n",
        "  return a[::-1]\n",
        "reversearray(a) "
      ],
      "metadata": {
        "colab": {
          "base_uri": "https://localhost:8080/"
        },
        "id": "XhXoQgc9uRLd",
        "outputId": "ea27556e-6a49-4fb0-e6d5-0a17e1cc9601"
      },
      "execution_count": null,
      "outputs": [
        {
          "output_type": "execute_result",
          "data": {
            "text/plain": [
              "[5, 4, 3, 2, 1]"
            ]
          },
          "metadata": {},
          "execution_count": 7
        }
      ]
    },
    {
      "cell_type": "code",
      "source": [
        "# Using in-built reverse() function\n",
        "a = [1,2,3,4,5]\n",
        "def reversearray(a):\n",
        "  a.reverse()\n",
        "  return a\n",
        "reversearray(a) "
      ],
      "metadata": {
        "colab": {
          "base_uri": "https://localhost:8080/"
        },
        "id": "9yyADIHJxFhc",
        "outputId": "dc7d2345-d9a4-4f50-e660-9bb35aa9a65a"
      },
      "execution_count": null,
      "outputs": [
        {
          "output_type": "execute_result",
          "data": {
            "text/plain": [
              "[5, 4, 3, 2, 1]"
            ]
          },
          "metadata": {},
          "execution_count": 13
        }
      ]
    },
    {
      "cell_type": "markdown",
      "source": [
        "# Kth largest number and Kth smallest number in array"
      ],
      "metadata": {
        "id": "VwJLpcICy7Wt"
      }
    },
    {
      "cell_type": "code",
      "source": [
        "def Kthsmallest(a,n,k):\n",
        "  a.sort()\n",
        "  return a[k-1]\n",
        "\n",
        "if __name__== \"__main__\":\n",
        "  a = [7,10,4,3,20,15]\n",
        "  n = len(a)\n",
        "  k = 4\n",
        "  print(\"The 4th smallest element in the array is\",Kthsmallest(a,n,k))  "
      ],
      "metadata": {
        "colab": {
          "base_uri": "https://localhost:8080/"
        },
        "id": "uMn73HQqzKj9",
        "outputId": "e42e2849-1085-4cec-98ed-7b38c6b7254f"
      },
      "execution_count": null,
      "outputs": [
        {
          "output_type": "stream",
          "name": "stdout",
          "text": [
            "The 4th smallest element in the array is 10\n"
          ]
        }
      ]
    },
    {
      "cell_type": "code",
      "source": [
        "def Kthlargest(a,n,k):\n",
        "  a.sort()\n",
        "  return a[-k]\n",
        "\n",
        "if __name__== \"__main__\":\n",
        "  a = [7,10,4,3,20,15]\n",
        "  n = len(a)\n",
        "  k = 3\n",
        "  print(\"The 3rd largest element in the array is\",Kthlargest(a,n,k))  "
      ],
      "metadata": {
        "colab": {
          "base_uri": "https://localhost:8080/"
        },
        "outputId": "266505f9-4e1a-488c-df54-e9a12409dc77",
        "id": "He96Lw-sivfE"
      },
      "execution_count": null,
      "outputs": [
        {
          "output_type": "stream",
          "name": "stdout",
          "text": [
            "The 3rd largest element in the array is 10\n"
          ]
        }
      ]
    },
    {
      "cell_type": "markdown",
      "source": [
        "# Minimum and Maximum element in an array"
      ],
      "metadata": {
        "id": "cEFlz0X-jXwN"
      }
    },
    {
      "cell_type": "code",
      "source": [
        "# using max() and min() in-built function\n",
        "a = str(input())\n",
        "b = a.split(\" \")\n",
        "for i in range(len(b)):\n",
        "  b[i] = int(b[i])\n",
        "print(b)\n",
        "max1 = max(b)\n",
        "min1 = min(b)\n",
        "print(max1,min1)"
      ],
      "metadata": {
        "colab": {
          "base_uri": "https://localhost:8080/"
        },
        "id": "7s-9Q7Jujfmx",
        "outputId": "8d67bd4e-28b1-4d42-edc9-bc7785806c3d"
      },
      "execution_count": null,
      "outputs": [
        {
          "output_type": "stream",
          "name": "stdout",
          "text": [
            "100 80 150 70\n",
            "[100, 80, 150, 70]\n",
            "150 70\n"
          ]
        }
      ]
    },
    {
      "cell_type": "code",
      "source": [
        "# using sorted() in-built function\n",
        "a = str(input())\n",
        "b = a.split(\" \")\n",
        "for i in range(len(b)):\n",
        "  b[i] = int(b[i])\n",
        "print(b)\n",
        "c = sorted(b)\n",
        "max2 = c[-1]\n",
        "min2 = c[0]\n",
        "print(c[-1],c[0])"
      ],
      "metadata": {
        "colab": {
          "base_uri": "https://localhost:8080/"
        },
        "id": "VqTK9HThnRDu",
        "outputId": "b618f334-10fa-49e5-f9a4-108d72a84b46"
      },
      "execution_count": null,
      "outputs": [
        {
          "output_type": "stream",
          "name": "stdout",
          "text": [
            "123 4 5 78\n",
            "[123, 4, 5, 78]\n",
            "123 4\n"
          ]
        }
      ]
    },
    {
      "cell_type": "code",
      "source": [
        "# using loops function\n",
        "a = str(input())\n",
        "b = a.split(\" \")\n",
        "for i in range(len(b)):\n",
        "  b[i] = int(b[i])\n",
        "print(b)\n",
        "max1 = 0\n",
        "for i in b:\n",
        "  if i >= max1:\n",
        "    max1 = i\n",
        "min1 = max1\n",
        "for i in b:\n",
        "  if i <= min1:\n",
        "    min1 = i    \n",
        "print(max1,min1)"
      ],
      "metadata": {
        "id": "FiM3JybHojLf",
        "colab": {
          "base_uri": "https://localhost:8080/"
        },
        "outputId": "5b023502-e708-465b-ad6d-ca8b6583c72c"
      },
      "execution_count": null,
      "outputs": [
        {
          "output_type": "stream",
          "name": "stdout",
          "text": [
            "123 4 5 78\n",
            "[123, 4, 5, 78]\n",
            "123 4\n"
          ]
        }
      ]
    },
    {
      "cell_type": "markdown",
      "source": [
        "# Finding subarray with sum equal to zero using positive and negative elements"
      ],
      "metadata": {
        "id": "vM6l0uU1fRDl"
      }
    },
    {
      "cell_type": "code",
      "source": [
        "size = int(input())\n",
        "num = list(map(int,input().split()))\n",
        "sublists = []\n",
        "result = 0\n",
        "for i in range(0,size+1):\n",
        "  for j in range(i+1,size+1):\n",
        "    sublists.append(num[i:j])\n",
        "for i in sublists:\n",
        "  if sum(i) == 0:\n",
        "    print(\"Yes\",i)\n",
        "    result = 1\n",
        "if result == 0:\n",
        "  print(\"No\")    "
      ],
      "metadata": {
        "colab": {
          "base_uri": "https://localhost:8080/"
        },
        "id": "F0gzMo5gk92w",
        "outputId": "77522e72-acc4-4e10-ce56-af36177712c8"
      },
      "execution_count": null,
      "outputs": [
        {
          "output_type": "stream",
          "name": "stdout",
          "text": [
            "5\n",
            "4 2 -3 1 6\n",
            "Yes [2, -3, 1]\n"
          ]
        }
      ]
    },
    {
      "cell_type": "markdown",
      "source": [
        "# A key is present in every segment of size K in an array"
      ],
      "metadata": {
        "id": "p77GO7gktKar"
      }
    },
    {
      "cell_type": "code",
      "source": [
        "# If a key is present in an array\n",
        "numbers = [3,5,2,4,9,3,25,11,3,8,3,2]\n",
        "num = int(input(\"enter the number?\"))\n",
        "size = int(input(\"enter the segment size?\"))\n",
        "a = []\n",
        "b = 1\n",
        "for i in range(0,len(numbers),size):\n",
        "  x = i\n",
        "  a.append(numbers[x:x+size])\n",
        "print(a)\n",
        "for segment in a:\n",
        "  if num not in segment:\n",
        "    b = 0\n",
        "if b == 0:\n",
        "  print(\"No\") \n",
        "else :\n",
        "  print(\"Yes\")"
      ],
      "metadata": {
        "colab": {
          "base_uri": "https://localhost:8080/"
        },
        "id": "hTP-9x3EtzpL",
        "outputId": "735e26ea-ba81-492a-927a-f15a0ddccb91"
      },
      "execution_count": null,
      "outputs": [
        {
          "output_type": "stream",
          "name": "stdout",
          "text": [
            "enter the number?3\n",
            "enter the segment size?3\n",
            "[[3, 5, 2], [4, 9, 3], [25, 11, 3], [8, 3, 2]]\n",
            "Yes\n"
          ]
        }
      ]
    },
    {
      "cell_type": "code",
      "source": [
        "# If a key is not present in an array\n",
        "numbers = [5,8,7,12,14,3,9]\n",
        "num = int(input(\"enter the number?\"))\n",
        "size = int(input(\"enter the segment size?\"))\n",
        "a = []\n",
        "b = 1\n",
        "for i in range(0,len(numbers),size):\n",
        "  x = i\n",
        "  a.append(numbers[x:x+size])\n",
        "print(a)\n",
        "for segment in a:\n",
        "  if num not in segment:\n",
        "    b = 0\n",
        "if b == 0:\n",
        "  print(\"No\") \n",
        "else :\n",
        "  print(\"Yes\")"
      ],
      "metadata": {
        "colab": {
          "base_uri": "https://localhost:8080/"
        },
        "outputId": "e62e8a8f-f3b7-44d2-e816-0cb742c0ec0c",
        "id": "_mPaTsPBzrky"
      },
      "execution_count": null,
      "outputs": [
        {
          "output_type": "stream",
          "name": "stdout",
          "text": [
            "enter the number?8\n",
            "enter the segment size?2\n",
            "[[5, 8], [7, 12], [14, 3], [9]]\n",
            "No\n"
          ]
        }
      ]
    },
    {
      "cell_type": "markdown",
      "source": [
        "# Minimum number of Platforms required for Trains in Railway station"
      ],
      "metadata": {
        "id": "I1WZv29quTOO"
      }
    },
    {
      "cell_type": "code",
      "source": [
        "arr = [900,940,950,1100,1500,1800]\n",
        "dep = [910,1200,1120,1130,1900,2000]\n",
        "def platform(arr,dep):\n",
        "  a = len(arr)\n",
        "  b = len(dep)\n",
        "  if a!= b:\n",
        "    print(\"Given inputs are false\")\n",
        "  else:\n",
        "    count = 1\n",
        "    i = 1\n",
        "    j = 0\n",
        "    result = 1\n",
        "    while (i<b and j<b):\n",
        "      if (arr[i]<=dep[j]):\n",
        "        count += 1\n",
        "        i += 1\n",
        "      elif (arr[i]>dep[j]):\n",
        "        count -=1\n",
        "        j += 1\n",
        "      if (count>result):\n",
        "        result = count\n",
        "    return result\n",
        "print(platform(arr,dep))          \n"
      ],
      "metadata": {
        "colab": {
          "base_uri": "https://localhost:8080/"
        },
        "id": "I7l-tG0mujmA",
        "outputId": "1dea1d8f-ba2c-44e1-d2b6-c0601f53b4dd"
      },
      "execution_count": null,
      "outputs": [
        {
          "output_type": "stream",
          "name": "stdout",
          "text": [
            "3\n"
          ]
        }
      ]
    }
  ]
}